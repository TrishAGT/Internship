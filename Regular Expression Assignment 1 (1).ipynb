{
 "cells": [
  {
   "cell_type": "code",
   "execution_count": 1,
   "id": "1d3ebe4a",
   "metadata": {},
   "outputs": [
    {
     "name": "stdout",
     "output_type": "stream",
     "text": [
      "Python:Exercises::PHP:Exercises:\n"
     ]
    }
   ],
   "source": [
    "#write a python program to replace all occurances of space, comma or dot with a colon\n",
    "import pandas as pd\n",
    "import re\n",
    "text=\"Python Exercises, PHP Exercises.\"\n",
    "print(re.sub(\"[ ,.]\",\":\",text))"
   ]
  },
  {
   "cell_type": "code",
   "execution_count": 6,
   "id": "8a0403ae",
   "metadata": {},
   "outputs": [],
   "source": [
    "#create a dataframe using the dictionary below and remove everything(., !, ++++, ; etc )\n",
    "data= {'SUMMARY':['hello,world!', '++++ test', '123four', 'five:', 'six.....']}\n",
    "df=pd.DataFrame(data)\n"
   ]
  },
  {
   "cell_type": "code",
   "execution_count": 7,
   "id": "2cd9950d",
   "metadata": {},
   "outputs": [
    {
     "data": {
      "text/plain": [
       "0    helloworld\n",
       "1          test\n",
       "2          four\n",
       "3          five\n",
       "4           six\n",
       "Name: SUMMARY, dtype: object"
      ]
     },
     "execution_count": 7,
     "metadata": {},
     "output_type": "execute_result"
    }
   ],
   "source": [
    "df['SUMMARY'].str.replace('[^a-zA-Z\\s]','',regex=True)"
   ]
  },
  {
   "cell_type": "code",
   "execution_count": 8,
   "id": "a589e490",
   "metadata": {},
   "outputs": [],
   "source": [
    "# create a function in python to find all words that are atleast 4 character long\n",
    "import re\n",
    "def find_words(string):\n",
    "    pattern=re.compile(r'\\b\\w{4,}\\b')\n",
    "    matches=pattern.findall(string)\n",
    "    return matches"
   ]
  },
  {
   "cell_type": "code",
   "execution_count": 9,
   "id": "83adb627",
   "metadata": {},
   "outputs": [],
   "source": [
    "#create a function in python to find all 3,4,5 character words in a string.\n",
    "import re \n",
    "def find_words(string):\n",
    "    pattern=re.compile(r'\\b\\w{3,5}\\b')\n",
    "    match=pattern.findall(string)\n",
    "    return match"
   ]
  },
  {
   "cell_type": "code",
   "execution_count": 1,
   "id": "56e3e2e5",
   "metadata": {},
   "outputs": [],
   "source": [
    "#write a function to remove the parenthesis in a list of strings\n",
    "import re\n",
    "def remove_parentheses(strings):\n",
    "    pattern=re.compile(r\"\\(\\)\")\n",
    "    modified_strings=[]\n",
    "    for string in strings:\n",
    "        modified_string=re.sub(pattern,\"\",string)\n",
    "        modified_strings.append(modified_string)\n",
    "        return modified_strings"
   ]
  },
  {
   "cell_type": "code",
   "execution_count": 2,
   "id": "3aa1dc15",
   "metadata": {},
   "outputs": [
    {
     "name": "stdout",
     "output_type": "stream",
     "text": [
      "['example(.com)']\n"
     ]
    }
   ],
   "source": [
    "sample_text=\"example(.com)\",\"hr@fliprobo(.com)\",\"github(.com)\",\"Hello(Data Science World)\",\"Data(scientists)\"\n",
    "result=remove_parentheses(sample_text)\n",
    "print(result)"
   ]
  },
  {
   "cell_type": "code",
   "execution_count": 12,
   "id": "2f73e753",
   "metadata": {},
   "outputs": [
    {
     "name": "stdout",
     "output_type": "stream",
     "text": [
      "['Importance', 'Of', 'Regular', 'Expression', 'In', 'Python']\n"
     ]
    }
   ],
   "source": [
    "#write a regular expression in puthon to split a string into uppercase\n",
    "import re\n",
    "text=\"ImportanceOfRegularExpressionInPython\"\n",
    "print(re.findall('[A-Z][^A-Z]*',text))"
   ]
  },
  {
   "cell_type": "code",
   "execution_count": 8,
   "id": "2eadf1a2",
   "metadata": {},
   "outputs": [],
   "source": [
    "#create a function in python to insert spaces between words starting with numbers\n",
    "import re\n",
    "def insert_space(text):\n",
    "    pattern=r'(\\d+)([A-Za-z]+)'\n",
    "    result=re.sub(pattern, r'\\1\\2', text)\n",
    "    return result"
   ]
  },
  {
   "cell_type": "code",
   "execution_count": 9,
   "id": "577bf37f",
   "metadata": {},
   "outputs": [
    {
     "name": "stdout",
     "output_type": "stream",
     "text": [
      "RegularExpression1IsAn2ImportantTopic3InPython\n"
     ]
    }
   ],
   "source": [
    "text=\"RegularExpression1IsAn2ImportantTopic3InPython\"\n",
    "output=insert_space(text)\n",
    "print(output)"
   ]
  },
  {
   "cell_type": "code",
   "execution_count": 18,
   "id": "ace8d225",
   "metadata": {},
   "outputs": [],
   "source": [
    "#to match a string contains onlyupper and lower case letters, numbers and underscores\n",
    "import re\n",
    "def match_string(string):\n",
    "    pattern=r'^[A-Za-z0-9_]+$'\n",
    "    if re.match(pattern,string):\n",
    "        print(\"String matches\")\n",
    "    else:\n",
    "        print(\"String didnot match\")"
   ]
  },
  {
   "cell_type": "code",
   "execution_count": 19,
   "id": "0a3d7226",
   "metadata": {},
   "outputs": [
    {
     "name": "stdout",
     "output_type": "stream",
     "text": [
      "String matches\n"
     ]
    }
   ],
   "source": [
    "match_string(\"Hello_world123\")"
   ]
  },
  {
   "cell_type": "code",
   "execution_count": 3,
   "id": "b429b355",
   "metadata": {},
   "outputs": [],
   "source": [
    "#write a python code where a string will start with a specific number\n",
    "def check_starting_number(string,number):\n",
    "    if string.startswith(str(number)):\n",
    "        return True\n",
    "    else:\n",
    "        return False"
   ]
  },
  {
   "cell_type": "code",
   "execution_count": 4,
   "id": "ef25e863",
   "metadata": {},
   "outputs": [],
   "source": [
    "string=\"123abc\"\n",
    "number=123"
   ]
  },
  {
   "cell_type": "code",
   "execution_count": 5,
   "id": "5c853cb5",
   "metadata": {},
   "outputs": [
    {
     "name": "stdout",
     "output_type": "stream",
     "text": [
      "The string starts with number\n"
     ]
    }
   ],
   "source": [
    "if check_starting_number(string,number):\n",
    "    print(\"The string starts with number\")\n",
    "else:\n",
    "    print(\"Donot start with number\")"
   ]
  },
  {
   "cell_type": "code",
   "execution_count": 24,
   "id": "2a5176cd",
   "metadata": {},
   "outputs": [
    {
     "name": "stdout",
     "output_type": "stream",
     "text": [
      "216.8.94.196\n"
     ]
    }
   ],
   "source": [
    "#write a python program to remove leading zeroes from an IP address\n",
    "import re\n",
    "import pandas as pd\n",
    "ip=\"216.08.094.196\"\n",
    "string=re.sub('\\.[0]*','.',ip)\n",
    "print(string)"
   ]
  },
  {
   "cell_type": "code",
   "execution_count": 27,
   "id": "9727d2a9",
   "metadata": {},
   "outputs": [],
   "source": [
    "#write a python program to search for literal strings within a string\n",
    "import re\n",
    "pattern=['fox','dog','horse']\n",
    "text=\"The quick brown fox jumps over the lazy dog.\"\n"
   ]
  },
  {
   "cell_type": "code",
   "execution_count": 29,
   "id": "49ee0ad2",
   "metadata": {},
   "outputs": [
    {
     "name": "stdout",
     "output_type": "stream",
     "text": [
      "searching for\"fox\" in \"The quick brown fox jumps over the lazy dog.\"->\n",
      "matched\n",
      "searching for\"dog\" in \"The quick brown fox jumps over the lazy dog.\"->\n",
      "matched\n",
      "searching for\"horse\" in \"The quick brown fox jumps over the lazy dog.\"->\n",
      "not matched\n"
     ]
    }
   ],
   "source": [
    "for pattern in pattern:\n",
    "    print('searching for\"%s\" in \"%s\"->'%(pattern,text))\n",
    "    if re.search(pattern,text):\n",
    "        print('matched')\n",
    "    else:\n",
    "        print(\"not matched\")"
   ]
  },
  {
   "cell_type": "code",
   "execution_count": 30,
   "id": "74ddc7dc",
   "metadata": {},
   "outputs": [],
   "source": [
    "#search for literal string in a string and also find the location within the original string where the patern occurs:\n",
    "import re\n",
    "import pandas as pd\n",
    "pattern='fox'\n",
    "text=\"The quick brown fox jumps over the lazy dog\"\n",
    "match=re.search(pattern,text)\n",
    "s=match.start()\n",
    "e=match.end()"
   ]
  },
  {
   "cell_type": "code",
   "execution_count": 31,
   "id": "a0deb65f",
   "metadata": {},
   "outputs": [
    {
     "name": "stdout",
     "output_type": "stream",
     "text": [
      "Found \"%s\" % match\n",
      "Found \"%s\" % match\n",
      "Found \"%s\" % match\n"
     ]
    }
   ],
   "source": [
    "#to find substrings within a string\n",
    "import re\n",
    "text=\"   \"\n",
    "pattern= ' '\n",
    "for match in re.findall(pattern,text):\n",
    "    print('Found \"%s\" % match')"
   ]
  },
  {
   "cell_type": "code",
   "execution_count": 6,
   "id": "3539e8ca",
   "metadata": {},
   "outputs": [],
   "source": [
    "#to find the occurance and position of substrings within a string\n",
    "import re\n",
    "text=\"   \"\n",
    "pattern= ' '\n",
    "for match in re.finditer(pattern,text):\n",
    "    s=match.start()\n",
    "    e=match.end()\n"
   ]
  },
  {
   "cell_type": "code",
   "execution_count": 7,
   "id": "937d64a2",
   "metadata": {},
   "outputs": [
    {
     "ename": "SyntaxError",
     "evalue": "unmatched ')' (3542956116.py, line 1)",
     "output_type": "error",
     "traceback": [
      "\u001b[1;36m  Cell \u001b[1;32mIn[7], line 1\u001b[1;36m\u001b[0m\n\u001b[1;33m    print('Found\"%s\"at%d:%d'%text[s,e],s,e))\u001b[0m\n\u001b[1;37m                                           ^\u001b[0m\n\u001b[1;31mSyntaxError\u001b[0m\u001b[1;31m:\u001b[0m unmatched ')'\n"
     ]
    }
   ],
   "source": [
    "print('Found\"%s\"at%d:%d'%text[s,e],s,e))"
   ]
  },
  {
   "cell_type": "code",
   "execution_count": 34,
   "id": "32838fb5",
   "metadata": {},
   "outputs": [],
   "source": [
    "#convert date format from YYYY-MM-DD to DD-MM-YYYY\n",
    "import re\n",
    "def change_date_format(dt):\n",
    "    return re.sub(r'(\\d{4})-(\\d{1,2})-(\\d{1,2})','\\\\3-\\\\2-\\\\1',dt)\n"
   ]
  },
  {
   "cell_type": "code",
   "execution_count": 36,
   "id": "16453e70",
   "metadata": {},
   "outputs": [
    {
     "name": "stdout",
     "output_type": "stream",
     "text": [
      "Original date in YYYY-MM-DD,format: 2024-02-02\n",
      "New date in DD-MM-YYYY,format: 02-02-2024\n"
     ]
    }
   ],
   "source": [
    "dt1=\"2024-02-02\"\n",
    "print(\"Original date in YYYY-MM-DD,format:\",dt1)\n",
    "print(\"New date in DD-MM-YYYY,format:\", change_date_format(dt1))\n"
   ]
  },
  {
   "cell_type": "code",
   "execution_count": 37,
   "id": "68844251",
   "metadata": {},
   "outputs": [],
   "source": [
    "#to find all decimal numbers with a precision of 1 or 2 in a string\n",
    "import re\n",
    "def find_decimal(string):\n",
    "    pattern=re.compiler(r'\\d+\\.\\d{1,2}')"
   ]
  },
  {
   "cell_type": "code",
   "execution_count": 40,
   "id": "7620b10d",
   "metadata": {},
   "outputs": [
    {
     "name": "stdout",
     "output_type": "stream",
     "text": [
      "[]\n"
     ]
    }
   ],
   "source": [
    "decimal_number=re.findall(pattern,string)\n",
    "print (decimal_number)"
   ]
  },
  {
   "cell_type": "code",
   "execution_count": 41,
   "id": "5f36fc96",
   "metadata": {},
   "outputs": [],
   "source": [
    "# To seperate and print the numbers and their position of a given string\n",
    "import re\n",
    "text=\"   \"\n",
    "for m in re.finditer(\"\\d+\", text):\n",
    "    print(m.group(0))\n",
    "    print(\"Indent position: \",m.start())"
   ]
  },
  {
   "cell_type": "code",
   "execution_count": 42,
   "id": "f7b89b0a",
   "metadata": {},
   "outputs": [
    {
     "ename": "ValueError",
     "evalue": "max() arg is an empty sequence",
     "output_type": "error",
     "traceback": [
      "\u001b[1;31m---------------------------------------------------------------------------\u001b[0m",
      "\u001b[1;31mValueError\u001b[0m                                Traceback (most recent call last)",
      "Cell \u001b[1;32mIn[42], line 6\u001b[0m\n\u001b[0;32m      4\u001b[0m numeric_values\u001b[38;5;241m=\u001b[39mre\u001b[38;5;241m.\u001b[39mfindall(\u001b[38;5;124mr\u001b[39m\u001b[38;5;124m'\u001b[39m\u001b[38;5;124m\\\u001b[39m\u001b[38;5;124md+\u001b[39m\u001b[38;5;124m'\u001b[39m, string)\n\u001b[0;32m      5\u001b[0m numeric_values\u001b[38;5;241m=\u001b[39m[\u001b[38;5;28mint\u001b[39m(value)\u001b[38;5;28;01mfor\u001b[39;00m value \u001b[38;5;129;01min\u001b[39;00m numeric_values]\n\u001b[1;32m----> 6\u001b[0m max_value\u001b[38;5;241m=\u001b[39m \u001b[38;5;28mmax\u001b[39m(numeric_values)\n\u001b[0;32m      7\u001b[0m \u001b[38;5;28mprint\u001b[39m(max_value)\n",
      "\u001b[1;31mValueError\u001b[0m: max() arg is an empty sequence"
     ]
    }
   ],
   "source": [
    "# to extract maximum largest numeric value from a string\n",
    "import re\n",
    "string= \"  \"\n",
    "numeric_values=re.findall(r'\\d+', string)\n",
    "numeric_values=[int(value)for value in numeric_values]\n",
    "max_value= max(numeric_values)\n",
    "print(max_value)"
   ]
  },
  {
   "cell_type": "code",
   "execution_count": 43,
   "id": "e9c84225",
   "metadata": {},
   "outputs": [],
   "source": [
    "#insert spacebetween words starting with capital letters\n",
    "import re\n",
    "def insert_space(text):\n",
    "    pattern=r'(\\d+)([A-Za-z]+)'\n",
    "    result=re.sub(pattern,r'\\1\\2',text)\n",
    "    return result"
   ]
  },
  {
   "cell_type": "code",
   "execution_count": 44,
   "id": "a60ae658",
   "metadata": {},
   "outputs": [
    {
     "name": "stdout",
     "output_type": "stream",
     "text": [
      "DataScienceIsABigSubject\n"
     ]
    }
   ],
   "source": [
    "text=\"DataScienceIsABigSubject\"\n",
    "output=insert_space(text)\n",
    "print(output)"
   ]
  },
  {
   "cell_type": "code",
   "execution_count": 45,
   "id": "2dae3d50",
   "metadata": {},
   "outputs": [
    {
     "name": "stdout",
     "output_type": "stream",
     "text": [
      "['Data', 'Science', 'World']\n"
     ]
    }
   ],
   "source": [
    "#to find sequence of one uppercase followed by lower case letter\n",
    "pattern=r'[A-Z][a-z]+'\n",
    "text=\"DataScienceWorld\"\n",
    "matches=re.findall(pattern,text)\n",
    "print(matches)"
   ]
  },
  {
   "cell_type": "code",
   "execution_count": 46,
   "id": "6373f624",
   "metadata": {},
   "outputs": [],
   "source": [
    "#remove continuous duplicate words\n",
    "def remove_duplicates(text):\n",
    "    pattern=r'\\b(\\w+)(\\s+\\1\\b)+'\n",
    "    result=re.sub(pattern,r'\\1',text)\n",
    "    return result"
   ]
  },
  {
   "cell_type": "code",
   "execution_count": 47,
   "id": "951a5f05",
   "metadata": {},
   "outputs": [
    {
     "name": "stdout",
     "output_type": "stream",
     "text": [
      "Data  DataScience Science Dataworld\n"
     ]
    }
   ],
   "source": [
    "text=(\"Data  DataScience Science Dataworld\")\n",
    "output=remove_duplicates(text)\n",
    "print (output)"
   ]
  },
  {
   "cell_type": "code",
   "execution_count": 48,
   "id": "950ecffe",
   "metadata": {},
   "outputs": [
    {
     "name": "stdout",
     "output_type": "stream",
     "text": [
      "['#science', '#world', '#well', '#come']\n"
     ]
    }
   ],
   "source": [
    "# to remove hashtags\n",
    "def extract_hashtags(text):\n",
    "    hashtags=re.findall(r'#\\w+',text)\n",
    "    return hashtags\n",
    "text=\"Data#science#world#well#come\"\n",
    "hashtags=extract_hashtags(text)\n",
    "print(hashtags)"
   ]
  },
  {
   "cell_type": "code",
   "execution_count": 49,
   "id": "1c57c8ee",
   "metadata": {},
   "outputs": [
    {
     "ename": "SyntaxError",
     "evalue": "'return' outside function (2418751818.py, line 6)",
     "output_type": "error",
     "traceback": [
      "\u001b[1;36m  Cell \u001b[1;32mIn[49], line 6\u001b[1;36m\u001b[0m\n\u001b[1;33m    return modified_string\u001b[0m\n\u001b[1;37m    ^\u001b[0m\n\u001b[1;31mSyntaxError\u001b[0m\u001b[1;31m:\u001b[0m 'return' outside function\n"
     ]
    }
   ],
   "source": [
    "#remove all words from a string of length between 2 and 4\n",
    "import re\n",
    "def remove_words(string):\n",
    "    pattern= re.compiler(r'\\b\\w{2,4}\\b')\n",
    "modified_string=re.sub(pattern,'',string)\n",
    "return modified_string"
   ]
  },
  {
   "cell_type": "code",
   "execution_count": null,
   "id": "d3ffb4c6",
   "metadata": {},
   "outputs": [],
   "source": []
  }
 ],
 "metadata": {
  "kernelspec": {
   "display_name": "Python 3 (ipykernel)",
   "language": "python",
   "name": "python3"
  },
  "language_info": {
   "codemirror_mode": {
    "name": "ipython",
    "version": 3
   },
   "file_extension": ".py",
   "mimetype": "text/x-python",
   "name": "python",
   "nbconvert_exporter": "python",
   "pygments_lexer": "ipython3",
   "version": "3.11.3"
  }
 },
 "nbformat": 4,
 "nbformat_minor": 5
}
